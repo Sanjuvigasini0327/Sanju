{
 "cells": [
  {
   "cell_type": "code",
   "execution_count": 1,
   "id": "1573fec6",
   "metadata": {},
   "outputs": [
    {
     "name": "stdout",
     "output_type": "stream",
     "text": [
      "Date Index \n",
      " 2011-01-02   -0.227896\n",
      "2011-01-05    0.156594\n",
      "2011-01-07   -0.620299\n",
      "2011-01-08   -1.808035\n",
      "2011-01-10    1.519742\n",
      "2011-01-12    0.762903\n",
      "dtype: float64\n"
     ]
    }
   ],
   "source": [
    "import pandas as pd\n",
    "import numpy as np\n",
    "from datetime import datetime\n",
    "#create a date variable that contains the dates\n",
    "dates = [datetime(2011, 1, 2),\n",
    " datetime(2011, 1, 5),\n",
    " datetime(2011, 1, 7),\n",
    " datetime(2011, 1, 8),\n",
    " datetime(2011, 1, 10),\n",
    " datetime(2011, 1, 12)]\n",
    "#with this date object, create a series\n",
    "ts = pd.Series(np.random.randn(6), index=dates)\n",
    "print(\"Date Index \\n\",ts)"
   ]
  },
  {
   "cell_type": "code",
   "execution_count": 2,
   "id": "196f68dc",
   "metadata": {},
   "outputs": [
    {
     "name": "stdout",
     "output_type": "stream",
     "text": [
      "\n",
      "Date Index alone from the series: \n",
      " DatetimeIndex(['2011-01-02', '2011-01-05', '2011-01-07', '2011-01-08',\n",
      "               '2011-01-10', '2011-01-12'],\n",
      "              dtype='datetime64[ns]', freq=None)\n"
     ]
    }
   ],
   "source": [
    "print(\"\\nDate Index alone from the series: \\n\",ts.index)"
   ]
  },
  {
   "cell_type": "code",
   "execution_count": 3,
   "id": "20611832",
   "metadata": {},
   "outputs": [
    {
     "name": "stdout",
     "output_type": "stream",
     "text": [
      "\n",
      "Second index:\n",
      " 2011-01-07 00:00:00\n"
     ]
    }
   ],
   "source": [
    "stamp=ts.index[2]\n",
    "print(\"\\nSecond index:\\n\", stamp)"
   ]
  },
  {
   "cell_type": "code",
   "execution_count": 4,
   "id": "8b236dc7",
   "metadata": {},
   "outputs": [
    {
     "name": "stdout",
     "output_type": "stream",
     "text": [
      "\n",
      "Daterange up to 1000 days:\n",
      " 2000-01-01    0.201575\n",
      "2000-01-02   -0.371799\n",
      "2000-01-03    2.358822\n",
      "2000-01-04    1.028055\n",
      "2000-01-05   -0.713155\n",
      "                ...   \n",
      "2002-09-22    0.524202\n",
      "2002-09-23   -0.009137\n",
      "2002-09-24    1.364076\n",
      "2002-09-25   -0.303678\n",
      "2002-09-26   -1.413652\n",
      "Freq: D, Length: 1000, dtype: float64\n"
     ]
    }
   ],
   "source": [
    "longer_ts=pd.Series(np.random.randn(1000),\n",
    " index=pd.date_range(\"2000-01-01\",periods=1000))\n",
    "print(\"\\nDaterange up to 1000 days:\\n\",longer_ts)"
   ]
  },
  {
   "cell_type": "code",
   "execution_count": 5,
   "id": "39f107d8",
   "metadata": {},
   "outputs": [
    {
     "name": "stdout",
     "output_type": "stream",
     "text": [
      "\n",
      "Date range-2001 year:\n",
      " 2001-01-01   -0.827437\n",
      "2001-01-02   -0.691065\n",
      "2001-01-03   -0.262401\n",
      "2001-01-04    0.825647\n",
      "2001-01-05    0.880186\n",
      "                ...   \n",
      "2001-12-27   -1.124248\n",
      "2001-12-28    1.096122\n",
      "2001-12-29   -1.720882\n",
      "2001-12-30   -0.616988\n",
      "2001-12-31    0.612203\n",
      "Freq: D, Length: 365, dtype: float64\n"
     ]
    }
   ],
   "source": [
    "print(\"\\nDate range-2001 year:\\n\", longer_ts[\"2001\"])"
   ]
  },
  {
   "cell_type": "code",
   "execution_count": 6,
   "id": "db7d1327",
   "metadata": {},
   "outputs": [
    {
     "name": "stdout",
     "output_type": "stream",
     "text": [
      "\n",
      "Date range-05 month 2001 year:\n",
      " 2001-05-01    1.135190\n",
      "2001-05-02   -0.511993\n",
      "2001-05-03    0.565630\n",
      "2001-05-04   -0.560573\n",
      "2001-05-05    0.658588\n",
      "2001-05-06    0.992084\n",
      "2001-05-07   -0.826690\n",
      "2001-05-08    0.796698\n",
      "2001-05-09   -0.593796\n",
      "2001-05-10   -0.520301\n",
      "2001-05-11   -0.224636\n",
      "2001-05-12   -0.498318\n",
      "2001-05-13    1.007135\n",
      "2001-05-14   -0.603310\n",
      "2001-05-15    0.003932\n",
      "2001-05-16    0.822602\n",
      "2001-05-17    1.388406\n",
      "2001-05-18    0.005722\n",
      "2001-05-19   -0.925574\n",
      "2001-05-20   -0.778885\n",
      "2001-05-21    0.508457\n",
      "2001-05-22    0.102883\n",
      "2001-05-23   -0.586130\n",
      "2001-05-24   -0.191810\n",
      "2001-05-25    0.314871\n",
      "2001-05-26    0.309907\n",
      "2001-05-27    0.401358\n",
      "2001-05-28    0.086645\n",
      "2001-05-29   -0.664365\n",
      "2001-05-30    1.273712\n",
      "2001-05-31    0.345806\n",
      "Freq: D, dtype: float64\n"
     ]
    }
   ],
   "source": [
    "print(\"\\nDate range-05 month 2001 year:\\n\", longer_ts[\"2001-05\"])"
   ]
  },
  {
   "cell_type": "code",
   "execution_count": 7,
   "id": "2fd58695",
   "metadata": {},
   "outputs": [
    {
     "name": "stdout",
     "output_type": "stream",
     "text": [
      "\n",
      "Date range-first few dates in 2000 year:\n",
      " 2000-01-01    0.201575\n",
      "2000-01-02   -0.371799\n",
      "2000-01-03    2.358822\n",
      "2000-01-04    1.028055\n",
      "2000-01-05   -0.713155\n",
      "Freq: D, dtype: float64\n"
     ]
    }
   ],
   "source": [
    "print(\"\\nDate range-first few dates in 2000 year:\\n\",longer_ts[\"2000\"].head())"
   ]
  },
  {
   "cell_type": "code",
   "execution_count": 8,
   "id": "1ff17595",
   "metadata": {},
   "outputs": [
    {
     "name": "stdout",
     "output_type": "stream",
     "text": [
      "\n",
      "Date range-first 15 dates in 02 month 2001 year:\n",
      " 2000-02-01    0.300718\n",
      "2000-02-02   -1.939756\n",
      "2000-02-03    0.605723\n",
      "2000-02-04    0.920292\n",
      "2000-02-05   -0.893352\n",
      "2000-02-06    0.651425\n",
      "2000-02-07   -0.718364\n",
      "2000-02-08   -1.770491\n",
      "2000-02-09    0.671893\n",
      "2000-02-10   -0.324575\n",
      "2000-02-11   -0.540025\n",
      "2000-02-12   -1.284475\n",
      "2000-02-13   -0.347877\n",
      "2000-02-14   -2.144314\n",
      "2000-02-15   -1.208635\n",
      "Freq: D, dtype: float64\n"
     ]
    }
   ],
   "source": [
    "print(\"\\nDate range-first 15 dates in 02 month 2001 year:\\n\",longer_ts[\"2000-02\"].head(15))"
   ]
  },
  {
   "cell_type": "code",
   "execution_count": 9,
   "id": "80d7186c",
   "metadata": {},
   "outputs": [
    {
     "name": "stdout",
     "output_type": "stream",
     "text": [
      "\n",
      "Date range-rom 26-9-2001:\n",
      " 2000-09-26   -0.133930\n",
      "2000-09-27   -1.091311\n",
      "2000-09-28   -0.182806\n",
      "2000-09-29   -1.328352\n",
      "2000-09-30    0.582791\n",
      "                ...   \n",
      "2002-09-22    0.524202\n",
      "2002-09-23   -0.009137\n",
      "2002-09-24    1.364076\n",
      "2002-09-25   -0.303678\n",
      "2002-09-26   -1.413652\n",
      "Freq: D, Length: 731, dtype: float64\n"
     ]
    }
   ],
   "source": [
    "print(\"\\nDate range-rom 26-9-2001:\\n\",longer_ts[datetime(2000,9,26):])"
   ]
  },
  {
   "cell_type": "code",
   "execution_count": 10,
   "id": "a0f4c737",
   "metadata": {},
   "outputs": [
    {
     "name": "stdout",
     "output_type": "stream",
     "text": [
      "\n",
      "Date range from 26-9-2001 to 25-9- 2002:\n",
      " 2001-09-26    1.372483\n",
      "2001-09-27    0.670359\n",
      "2001-09-28   -0.098406\n",
      "2001-09-29   -1.132746\n",
      "2001-09-30   -1.313827\n",
      "                ...   \n",
      "2002-09-21   -1.304620\n",
      "2002-09-22    0.524202\n",
      "2002-09-23   -0.009137\n",
      "2002-09-24    1.364076\n",
      "2002-09-25   -0.303678\n",
      "Freq: D, Length: 365, dtype: float64\n"
     ]
    }
   ],
   "source": [
    "print(\"\\nDate range from 26-9-2001 to 25-9- 2002:\\n\",longer_ts[datetime(2001,9,26):datetime(2002,9,25)])"
   ]
  },
  {
   "cell_type": "code",
   "execution_count": null,
   "id": "1f0361ef",
   "metadata": {},
   "outputs": [],
   "source": []
  }
 ],
 "metadata": {
  "kernelspec": {
   "display_name": "Python 3 (ipykernel)",
   "language": "python",
   "name": "python3"
  },
  "language_info": {
   "codemirror_mode": {
    "name": "ipython",
    "version": 3
   },
   "file_extension": ".py",
   "mimetype": "text/x-python",
   "name": "python",
   "nbconvert_exporter": "python",
   "pygments_lexer": "ipython3",
   "version": "3.11.3"
  }
 },
 "nbformat": 4,
 "nbformat_minor": 5
}
