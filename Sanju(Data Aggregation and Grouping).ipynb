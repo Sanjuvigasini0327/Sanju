{
 "cells": [
  {
   "cell_type": "code",
   "execution_count": 2,
   "id": "3617e38f",
   "metadata": {},
   "outputs": [
    {
     "name": "stdout",
     "output_type": "stream",
     "text": [
      "\n",
      "Original Dataframe:\n",
      "       Name category  value  score\n",
      "0    Alice        A      4     86\n",
      "1      Bob        B      4     78\n",
      "2  Charlie        A      1     69\n",
      "3    Alice        B      4     88\n",
      "4      Bob        A      1     75\n",
      "5  Charlie        B      3     75\n"
     ]
    }
   ],
   "source": [
    "import numpy as np\n",
    "import pandas as pd\n",
    "df=pd.DataFrame({'Name':['Alice', 'Bob', 'Charlie', 'Alice', 'Bob', 'Charlie'],\n",
    "'category':['A', 'B', 'A', 'B', 'A', 'B'],\n",
    "'value':np.random.randint(1, 5, size=6),\n",
    "'score':np.random.randint(60, 100, size=6)\n",
    "})\n",
    "print(\"\\nOriginal Dataframe:\\n\",df)"
   ]
  },
  {
   "cell_type": "code",
   "execution_count": 3,
   "id": "b6d4850f",
   "metadata": {},
   "outputs": [
    {
     "name": "stdout",
     "output_type": "stream",
     "text": [
      "\n",
      "Group by name and Aggregation with one column:\n",
      "       Name  value\n",
      "0    Alice      8\n",
      "1      Bob      5\n",
      "2  Charlie      4\n"
     ]
    }
   ],
   "source": [
    "df1=df.groupby(('Name'),as_index=False)['value'].sum()\n",
    "print(\"\\nGroup by name and Aggregation with one column:\\n\",df1)"
   ]
  },
  {
   "cell_type": "code",
   "execution_count": 4,
   "id": "a105ba67",
   "metadata": {},
   "outputs": [
    {
     "name": "stdout",
     "output_type": "stream",
     "text": [
      "\n",
      "Group by name and Aggregation with two column:\n",
      "       Name  value  score\n",
      "0    Alice      8    174\n",
      "1      Bob      5    153\n",
      "2  Charlie      4    144\n"
     ]
    }
   ],
   "source": [
    "df2=df.groupby(('Name'),as_index=False)[['value','score']].sum()\n",
    "print(\"\\nGroup by name and Aggregation with two column:\\n\",df2)"
   ]
  },
  {
   "cell_type": "code",
   "execution_count": 5,
   "id": "7730d855",
   "metadata": {},
   "outputs": [
    {
     "name": "stdout",
     "output_type": "stream",
     "text": [
      "\n",
      "Group by name and Aggregation with one column using agg function:\n",
      "       Name  value\n",
      "0    Alice      8\n",
      "1      Bob      5\n",
      "2  Charlie      4\n"
     ]
    }
   ],
   "source": [
    "df3=df.groupby(('Name'),as_index=False)['value'].agg('sum')\n",
    "print(\"\\nGroup by name and Aggregation with one column using agg function:\\n\",df3)"
   ]
  },
  {
   "cell_type": "code",
   "execution_count": 6,
   "id": "eb4b3f53",
   "metadata": {},
   "outputs": [
    {
     "name": "stdout",
     "output_type": "stream",
     "text": [
      "\n",
      "Group by name and multiple Aggregation functions :\n",
      "         value              score      \n",
      "          sum mean min max   sum  mean\n",
      "Name                                  \n",
      "Alice       8  4.0   4   4   174  87.0\n",
      "Bob         5  2.5   1   4   153  76.5\n",
      "Charlie     4  2.0   1   3   144  72.0\n"
     ]
    }
   ],
   "source": [
    "df4 = df.groupby('Name').agg({\n",
    "'value': ['sum', 'mean', 'min', 'max'],\n",
    "'score': ['sum', 'mean']})\n",
    "print(\"\\nGroup by name and multiple Aggregation functions :\\n\", df4)"
   ]
  },
  {
   "cell_type": "code",
   "execution_count": 9,
   "id": "749c3ed7",
   "metadata": {},
   "outputs": [
    {
     "name": "stdout",
     "output_type": "stream",
     "text": [
      "\n",
      "Group and count:\n",
      "       Name  value\n",
      "0    Alice      2\n",
      "1      Bob      2\n",
      "2  Charlie      2\n"
     ]
    }
   ],
   "source": [
    "df5 = df.groupby(('Name'),as_index=False)['value'].count()\n",
    "print(\"\\nGroup and count:\\n\",df5)"
   ]
  },
  {
   "cell_type": "code",
   "execution_count": 10,
   "id": "a3c7fab4",
   "metadata": {},
   "outputs": [
    {
     "name": "stdout",
     "output_type": "stream",
     "text": [
      "\n",
      "Group and count:\n",
      "          category  value  score\n",
      "Name                           \n",
      "Alice           2      2      2\n",
      "Bob             2      2      2\n",
      "Charlie         2      2      2\n"
     ]
    }
   ],
   "source": [
    "df6 = df.groupby(('Name')).count()\n",
    "print(\"\\nGroup and count:\\n\",df6)"
   ]
  },
  {
   "cell_type": "code",
   "execution_count": 11,
   "id": "dcbe41ed",
   "metadata": {},
   "outputs": [
    {
     "name": "stdout",
     "output_type": "stream",
     "text": [
      "\n",
      "Group and display from first:\n",
      "       Name  value\n",
      "0    Alice      4\n",
      "1      Bob      4\n",
      "2  Charlie      1\n"
     ]
    }
   ],
   "source": [
    "df7 = df.groupby(('Name'),as_index=False)['value'].first()\n",
    "print(\"\\nGroup and display from first:\\n\",df7)"
   ]
  },
  {
   "cell_type": "code",
   "execution_count": 13,
   "id": "ac77374d",
   "metadata": {},
   "outputs": [
    {
     "name": "stdout",
     "output_type": "stream",
     "text": [
      "\n",
      "Group and display from first:\n",
      "         category  value  score\n",
      "Name                          \n",
      "Alice          A      4     86\n",
      "Bob            B      4     78\n",
      "Charlie        A      1     69\n"
     ]
    }
   ],
   "source": [
    "df8 = df.groupby(('Name')).first()\n",
    "print(\"\\nGroup and display from first:\\n\",df8)"
   ]
  },
  {
   "cell_type": "code",
   "execution_count": 17,
   "id": "adbd9b0b",
   "metadata": {},
   "outputs": [
    {
     "name": "stdout",
     "output_type": "stream",
     "text": [
      "\n",
      "Group and display from last:\n",
      "       Name  value\n",
      "0    Alice      4\n",
      "1      Bob      1\n",
      "2  Charlie      3\n"
     ]
    }
   ],
   "source": [
    "df9 = df.groupby(('Name'),as_index=False)['value'].last()\n",
    "print(\"\\nGroup and display from last:\\n\",df9)"
   ]
  },
  {
   "cell_type": "code",
   "execution_count": 18,
   "id": "f1f4bf6b",
   "metadata": {},
   "outputs": [
    {
     "name": "stdout",
     "output_type": "stream",
     "text": [
      "\n",
      "Group and display from last:\n",
      "         category  value  score\n",
      "Name                          \n",
      "Alice          B      4     88\n",
      "Bob            A      1     75\n",
      "Charlie        B      3     75\n"
     ]
    }
   ],
   "source": [
    "df10 = df.groupby(('Name')).last()\n",
    "print(\"\\nGroup and display from last:\\n\",df10)"
   ]
  },
  {
   "cell_type": "code",
   "execution_count": 19,
   "id": "cbd446ee",
   "metadata": {},
   "outputs": [
    {
     "name": "stdout",
     "output_type": "stream",
     "text": [
      "\n",
      "Group and display the size:\n",
      "       Name  size\n",
      "0    Alice     2\n",
      "1      Bob     2\n",
      "2  Charlie     2\n"
     ]
    }
   ],
   "source": [
    "df11 = df.groupby(('Name'),as_index=False)['value'].size()\n",
    "print(\"\\nGroup and display the size:\\n\",df11)"
   ]
  },
  {
   "cell_type": "code",
   "execution_count": 20,
   "id": "7ce3b123",
   "metadata": {},
   "outputs": [
    {
     "name": "stdout",
     "output_type": "stream",
     "text": [
      "\n",
      "Group and display from last:\n",
      " Name\n",
      "Alice      2\n",
      "Bob        2\n",
      "Charlie    2\n",
      "dtype: int64\n"
     ]
    }
   ],
   "source": [
    "df11 = df.groupby(('Name')).size()\n",
    "print(\"\\nGroup and display from last:\\n\",df11)"
   ]
  },
  {
   "cell_type": "code",
   "execution_count": null,
   "id": "481cb496",
   "metadata": {},
   "outputs": [],
   "source": []
  }
 ],
 "metadata": {
  "kernelspec": {
   "display_name": "Python 3 (ipykernel)",
   "language": "python",
   "name": "python3"
  },
  "language_info": {
   "codemirror_mode": {
    "name": "ipython",
    "version": 3
   },
   "file_extension": ".py",
   "mimetype": "text/x-python",
   "name": "python",
   "nbconvert_exporter": "python",
   "pygments_lexer": "ipython3",
   "version": "3.11.3"
  }
 },
 "nbformat": 4,
 "nbformat_minor": 5
}
