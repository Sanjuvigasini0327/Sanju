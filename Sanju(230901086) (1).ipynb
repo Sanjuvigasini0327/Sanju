{
 "cells": [
  {
   "cell_type": "code",
   "execution_count": 1,
   "id": "4cfc58c0",
   "metadata": {},
   "outputs": [
    {
     "name": "stdout",
     "output_type": "stream",
     "text": [
      "       a  b  c\n",
      "one    1  2  3\n",
      "two    4  5  6\n",
      "three  7  8  9\n"
     ]
    }
   ],
   "source": [
    "import pandas as pd\n",
    "df=pd.DataFrame([[1,2,3],[4,5,6],[7,8,9]],index=['one','two','three'],columns=['a','b','c'])\n",
    "print(df)"
   ]
  },
  {
   "cell_type": "code",
   "execution_count": 11,
   "id": "83e26f38",
   "metadata": {},
   "outputs": [],
   "source": [
    "df.to_excel(\"D:\\Sanju.xlsx\")\n",
    "df.to_excel(\"D:\\Sanju1.xlsx\")"
   ]
  },
  {
   "cell_type": "code",
   "execution_count": 9,
   "id": "dccfac3a",
   "metadata": {},
   "outputs": [],
   "source": [
    "df=pd.DataFrame([[10,20,30],[40,50,60],[70,80,90]],index=['four','five','six'],columns=['x','y','z'])\n",
    "df.to_excel(\"D:\\Sanju.xlsx\",sheet_name=\"Sheet.1\")"
   ]
  },
  {
   "cell_type": "code",
   "execution_count": 12,
   "id": "449f460f",
   "metadata": {},
   "outputs": [],
   "source": [
    "df=pd.DataFrame([[6,7],[1,2]],index=['a','b'],columns=['x','y'])\n",
    "df.to_excel(\"D:\\Sanju1.xlsx\",sheet_name=\"Sheet.1\")"
   ]
  },
  {
   "cell_type": "code",
   "execution_count": 13,
   "id": "254e6a2e",
   "metadata": {},
   "outputs": [],
   "source": [
    "df.to_excel(\"D:\\Sanju2.xlsx\")"
   ]
  },
  {
   "cell_type": "code",
   "execution_count": 19,
   "id": "9844f395",
   "metadata": {},
   "outputs": [],
   "source": [
    "x=pd.read_excel(\"D:\\Sanju.xlsx\")\n",
    "y=pd.read_excel(\"D:\\Sanju1.xlsx\")\n",
    "z=pd.concat([x,y])\n",
    "z.to_excel(\"D:\\Sanju2.xlsx\")"
   ]
  },
  {
   "cell_type": "code",
   "execution_count": 1,
   "id": "9100d964",
   "metadata": {},
   "outputs": [
    {
     "name": "stdout",
     "output_type": "stream",
     "text": [
      "   Unnamed: 0.1 Unnamed: 0   x   y     z\n",
      "0             0       four  10  20  30.0\n",
      "1             1       five  40  50  60.0\n",
      "2             2        six  70  80  90.0\n",
      "3             0          a   6   7   NaN\n",
      "4             1          b   1   2   NaN\n",
      "['Unnamed: 0.1', 'Unnamed: 0', 'x', 'y', 'z']\n",
      "5\n"
     ]
    }
   ],
   "source": [
    "import pandas as pd\n",
    "df=pd.read_excel(\"D:\\Sanju2.xlsx\")\n",
    "print(df)\n",
    "print(list(df))\n",
    "print(format(len(df)))"
   ]
  },
  {
   "cell_type": "code",
   "execution_count": null,
   "id": "c6fc5d98",
   "metadata": {},
   "outputs": [],
   "source": [
    "                                                                                                                                                                                                                                                                                                                                                                                                                                                                                                                      "
   ]
  }
 ],
 "metadata": {
  "kernelspec": {
   "display_name": "Python 3 (ipykernel)",
   "language": "python",
   "name": "python3"
  },
  "language_info": {
   "codemirror_mode": {
    "name": "ipython",
    "version": 3
   },
   "file_extension": ".py",
   "mimetype": "text/x-python",
   "name": "python",
   "nbconvert_exporter": "python",
   "pygments_lexer": "ipython3",
   "version": "3.10.9"
  }
 },
 "nbformat": 4,
 "nbformat_minor": 5
}
